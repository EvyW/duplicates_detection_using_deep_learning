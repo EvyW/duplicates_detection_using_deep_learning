{
  "nbformat": 4,
  "nbformat_minor": 0,
  "metadata": {
    "colab": {
      "name": "duplicates_detection_using_deep_learning.ipynb",
      "provenance": [],
      "collapsed_sections": []
    },
    "kernelspec": {
      "name": "python3",
      "display_name": "Python 3"
    },
    "accelerator": "GPU"
  },
  "cells": [
    {
      "cell_type": "markdown",
      "metadata": {
        "id": "sNcKniTZWc_K"
      },
      "source": [
        "# Duplicates Detection Using Deep Learning\n",
        "\n",
        "The effects of Big Data might affect unfavorably the process of duplicates detection when we want to integrate two or more databases. For example, the description of a product in Amazon might contain a lot of text and use specific vocabulary and grammatic style, and the description of the same product on ebay, can also contain a lot of text but its vocabulary and style might be completely different. Then, deciding on whether we are facing a duplicate or not, turns into a hard task. Fortunately, advances in the deep learning field, have enabled us to overcome these issues (to some extent) and have generated promising results. This jupyter notebook contains an example of how we can use deep learning to detect duplicates using the deepmatcher library. "
      ]
    },
    {
      "cell_type": "code",
      "metadata": {
        "id": "aQghTBtgU5hN",
        "colab": {
          "base_uri": "https://localhost:8080/",
          "height": 139
        },
        "outputId": "ebd0267d-2b57-4c11-d757-67de0fbcea4e"
      },
      "source": [
        "# Import DeepMatcher library\n",
        "try:\n",
        "    import deepmatcher\n",
        "except:\n",
        "    !pip install -qqq deepmatcher"
      ],
      "execution_count": null,
      "outputs": [
        {
          "output_type": "stream",
          "text": [
            "\u001b[K     |████████████████████████████████| 51kB 2.4MB/s \n",
            "\u001b[K     |████████████████████████████████| 51kB 7.1MB/s \n",
            "\u001b[K     |████████████████████████████████| 296kB 16.3MB/s \n",
            "\u001b[?25h  Building wheel for deepmatcher (setup.py) ... \u001b[?25l\u001b[?25hdone\n",
            "  Building wheel for fasttextmirror (setup.py) ... \u001b[?25lerror\n",
            "\u001b[31m  ERROR: Failed building wheel for fasttextmirror\u001b[0m\n",
            "\u001b[?25h    Running setup.py install for fasttextmirror ... \u001b[?25l\u001b[?25hdone\n"
          ],
          "name": "stdout"
        }
      ]
    },
    {
      "cell_type": "code",
      "metadata": {
        "id": "zgsGdTGxRWGm"
      },
      "source": [
        "import deepmatcher as dm"
      ],
      "execution_count": null,
      "outputs": []
    },
    {
      "cell_type": "code",
      "metadata": {
        "id": "btLnd07fGceQ"
      },
      "source": [
        "# Import other useful dependencies\n",
        "import sys"
      ],
      "execution_count": null,
      "outputs": []
    },
    {
      "cell_type": "code",
      "metadata": {
        "id": "4gYTvVRfDbZD",
        "colab": {
          "base_uri": "https://localhost:8080/",
          "height": 141
        },
        "outputId": "28239344-9867-4029-abcf-b6a692b98ddf"
      },
      "source": [
        "# Import other things to make DeepMatcher works \n",
        "!{sys.executable} -m pip install torchtext==0.2.3"
      ],
      "execution_count": null,
      "outputs": [
        {
          "output_type": "stream",
          "text": [
            "Requirement already satisfied: torchtext==0.2.3 in /usr/local/lib/python3.6/dist-packages (0.2.3)\n",
            "Requirement already satisfied: requests in /usr/local/lib/python3.6/dist-packages (from torchtext==0.2.3) (2.18.4)\n",
            "Requirement already satisfied: tqdm in /usr/local/lib/python3.6/dist-packages (from torchtext==0.2.3) (4.28.1)\n",
            "Requirement already satisfied: certifi>=2017.4.17 in /usr/local/lib/python3.6/dist-packages (from requests->torchtext==0.2.3) (2018.10.15)\n",
            "Requirement already satisfied: urllib3<1.23,>=1.21.1 in /usr/local/lib/python3.6/dist-packages (from requests->torchtext==0.2.3) (1.22)\n",
            "Requirement already satisfied: chardet<3.1.0,>=3.0.2 in /usr/local/lib/python3.6/dist-packages (from requests->torchtext==0.2.3) (3.0.4)\n",
            "Requirement already satisfied: idna<2.7,>=2.5 in /usr/local/lib/python3.6/dist-packages (from requests->torchtext==0.2.3) (2.6)\n"
          ],
          "name": "stdout"
        }
      ]
    },
    {
      "cell_type": "code",
      "metadata": {
        "id": "GfkqFkK2ADmB"
      },
      "source": [
        "# Import Torch, a Machine Learning library needed by DeepMatcher\n",
        "import torch"
      ],
      "execution_count": null,
      "outputs": []
    },
    {
      "cell_type": "code",
      "metadata": {
        "id": "0zMmqa1rAxUv",
        "colab": {
          "base_uri": "https://localhost:8080/",
          "height": 34
        },
        "outputId": "5e6e79b6-7be1-4cb5-a254-a29c97fb0b9c"
      },
      "source": [
        "print(torch.__version__)"
      ],
      "execution_count": null,
      "outputs": [
        {
          "output_type": "stream",
          "text": [
            "0.3.1\n"
          ],
          "name": "stdout"
        }
      ]
    },
    {
      "cell_type": "code",
      "metadata": {
        "id": "iXu-car_wRNQ"
      },
      "source": [
        "import deepmatcher as dm"
      ],
      "execution_count": null,
      "outputs": []
    },
    {
      "cell_type": "code",
      "metadata": {
        "id": "DOZJmf-4wh3V",
        "colab": {
          "resources": {
            "http://localhost:8080/nbextensions/google.colab/files.js": {
              "data": "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",
              "ok": true,
              "headers": [
                [
                  "content-type",
                  "application/javascript"
                ]
              ],
              "status": 200,
              "status_text": ""
            }
          },
          "base_uri": "https://localhost:8080/",
          "height": 192
        },
        "outputId": "85e7098b-ddaf-4d29-8780-817e740ccdfe"
      },
      "source": [
        "# Upload data\n",
        "\n",
        "# invoke a file selector (select the files)\n",
        "from google.colab import files\n",
        "\n",
        "uploaded = files.upload()\n",
        "\n",
        "# iterate the uploaded files in order to find their key names\n",
        "for fn in uploaded.keys():\n",
        "  print('User uploaded file \"{name}\" with length {length} bytes'.format(\n",
        "      name=fn, length=len(uploaded[fn])))"
      ],
      "execution_count": null,
      "outputs": [
        {
          "output_type": "display_data",
          "data": {
            "text/html": [
              "\n",
              "     <input type=\"file\" id=\"files-acb7ccff-fa22-47f2-92a1-159e001a7dba\" name=\"files[]\" multiple disabled />\n",
              "     <output id=\"result-acb7ccff-fa22-47f2-92a1-159e001a7dba\">\n",
              "      Upload widget is only available when the cell has been executed in the\n",
              "      current browser session. Please rerun this cell to enable.\n",
              "      </output>\n",
              "      <script src=\"/nbextensions/google.colab/files.js\"></script> "
            ],
            "text/plain": [
              "<IPython.core.display.HTML object>"
            ]
          },
          "metadata": {
            "tags": []
          }
        },
        {
          "output_type": "stream",
          "text": [
            "Saving testutf.csv to testutf (1).csv\n",
            "Saving trainutf.csv to trainutf (1).csv\n",
            "Saving validutf.csv to validutf (1).csv\n",
            "User uploaded file \"testutf.csv\" with length 826370 bytes\n",
            "User uploaded file \"trainutf.csv\" with length 2333566 bytes\n",
            "User uploaded file \"validutf.csv\" with length 815545 bytes\n"
          ],
          "name": "stdout"
        }
      ]
    },
    {
      "cell_type": "code",
      "metadata": {
        "id": "RyQx65vi4IUW",
        "colab": {
          "base_uri": "https://localhost:8080/",
          "height": 281
        },
        "outputId": "ca4143ef-a87a-4323-b6bd-21b8a6935651"
      },
      "source": [
        "# get an idea about how the data looks\n",
        "import pandas as pd\n",
        "pd.read_csv('trainutf (1).csv').head()"
      ],
      "execution_count": null,
      "outputs": [
        {
          "output_type": "execute_result",
          "data": {
            "text/html": [
              "<div>\n",
              "<style scoped>\n",
              "    .dataframe tbody tr th:only-of-type {\n",
              "        vertical-align: middle;\n",
              "    }\n",
              "\n",
              "    .dataframe tbody tr th {\n",
              "        vertical-align: top;\n",
              "    }\n",
              "\n",
              "    .dataframe thead th {\n",
              "        text-align: right;\n",
              "    }\n",
              "</style>\n",
              "<table border=\"1\" class=\"dataframe\">\n",
              "  <thead>\n",
              "    <tr style=\"text-align: right;\">\n",
              "      <th></th>\n",
              "      <th>id</th>\n",
              "      <th>label</th>\n",
              "      <th>left_name</th>\n",
              "      <th>left_description</th>\n",
              "      <th>left_price</th>\n",
              "      <th>right_name</th>\n",
              "      <th>right_description</th>\n",
              "      <th>right_price</th>\n",
              "    </tr>\n",
              "  </thead>\n",
              "  <tbody>\n",
              "    <tr>\n",
              "      <th>0</th>\n",
              "      <td>1917</td>\n",
              "      <td>0</td>\n",
              "      <td>lg 24 ' lds4821ww semi integrated built in whi...</td>\n",
              "      <td>lg 24 ' lds4821ww semi integrated built in whi...</td>\n",
              "      <td>NaN</td>\n",
              "      <td>lg ldf6920bb fully integrated dishwasher</td>\n",
              "      <td>NaN</td>\n",
              "      <td>NaN</td>\n",
              "    </tr>\n",
              "    <tr>\n",
              "      <th>1</th>\n",
              "      <td>1918</td>\n",
              "      <td>0</td>\n",
              "      <td>speck seethru clear hard shell case for macboo...</td>\n",
              "      <td>speck seethru clear hard shell case for macboo...</td>\n",
              "      <td>NaN</td>\n",
              "      <td>speck products seethru case for apple 13 ' mac...</td>\n",
              "      <td>plastic pink</td>\n",
              "      <td>NaN</td>\n",
              "    </tr>\n",
              "    <tr>\n",
              "      <th>2</th>\n",
              "      <td>1919</td>\n",
              "      <td>0</td>\n",
              "      <td>denon blu-ray disc dvd/cd player dvd3800bdci</td>\n",
              "      <td>denon blu-ray disc dvd/cd player dvd3800bdci 1...</td>\n",
              "      <td>1999.0</td>\n",
              "      <td>denon dvd-2930ci dvd player dvd2930ci</td>\n",
              "      <td>dvd + rw , dvd-rw , cd-rw dvd video , dvd audi...</td>\n",
              "      <td>448.00</td>\n",
              "    </tr>\n",
              "    <tr>\n",
              "      <th>3</th>\n",
              "      <td>1920</td>\n",
              "      <td>0</td>\n",
              "      <td>panasonic dect 6.0 expandable digital cordless...</td>\n",
              "      <td>panasonic dect 6.0 expandable digital cordless...</td>\n",
              "      <td>NaN</td>\n",
              "      <td>panasonic kx-tg1032s dual handset digital cord...</td>\n",
              "      <td>1 x phone line ( s ) headset jack silver</td>\n",
              "      <td>61.14</td>\n",
              "    </tr>\n",
              "    <tr>\n",
              "      <th>4</th>\n",
              "      <td>1921</td>\n",
              "      <td>0</td>\n",
              "      <td>sony silver minidv handycam camcorder dcrhc52</td>\n",
              "      <td>sony silver minidv handycam camcorder dcrhc52 ...</td>\n",
              "      <td>NaN</td>\n",
              "      <td>sony minidv head cleaner dvm12cld</td>\n",
              "      <td>head cleaner</td>\n",
              "      <td>7.95</td>\n",
              "    </tr>\n",
              "  </tbody>\n",
              "</table>\n",
              "</div>"
            ],
            "text/plain": [
              "     id  label                                          left_name  \\\n",
              "0  1917      0  lg 24 ' lds4821ww semi integrated built in whi...   \n",
              "1  1918      0  speck seethru clear hard shell case for macboo...   \n",
              "2  1919      0       denon blu-ray disc dvd/cd player dvd3800bdci   \n",
              "3  1920      0  panasonic dect 6.0 expandable digital cordless...   \n",
              "4  1921      0      sony silver minidv handycam camcorder dcrhc52   \n",
              "\n",
              "                                    left_description  left_price  \\\n",
              "0  lg 24 ' lds4821ww semi integrated built in whi...         NaN   \n",
              "1  speck seethru clear hard shell case for macboo...         NaN   \n",
              "2  denon blu-ray disc dvd/cd player dvd3800bdci 1...      1999.0   \n",
              "3  panasonic dect 6.0 expandable digital cordless...         NaN   \n",
              "4  sony silver minidv handycam camcorder dcrhc52 ...         NaN   \n",
              "\n",
              "                                          right_name  \\\n",
              "0           lg ldf6920bb fully integrated dishwasher   \n",
              "1  speck products seethru case for apple 13 ' mac...   \n",
              "2              denon dvd-2930ci dvd player dvd2930ci   \n",
              "3  panasonic kx-tg1032s dual handset digital cord...   \n",
              "4                  sony minidv head cleaner dvm12cld   \n",
              "\n",
              "                                   right_description  right_price  \n",
              "0                                                NaN          NaN  \n",
              "1                                       plastic pink          NaN  \n",
              "2  dvd + rw , dvd-rw , cd-rw dvd video , dvd audi...       448.00  \n",
              "3           1 x phone line ( s ) headset jack silver        61.14  \n",
              "4                                       head cleaner         7.95  "
            ]
          },
          "metadata": {
            "tags": []
          },
          "execution_count": 47
        }
      ]
    },
    {
      "cell_type": "code",
      "metadata": {
        "id": "mJE37GYNH7Y2"
      },
      "source": [
        "# check the current working directory\n",
        "import os\n",
        "!pwd"
      ],
      "execution_count": null,
      "outputs": []
    },
    {
      "cell_type": "code",
      "metadata": {
        "id": "7YgHur7K3I1P",
        "colab": {
          "base_uri": "https://localhost:8080/",
          "height": 283
        },
        "outputId": "c39654f5-7b49-4e3c-fb71-730c701b24ae"
      },
      "source": [
        "# preprocessing (main tasks): \n",
        "# 1) attribute values are tokenized (e.g. divide: I'm -> I m) and lowercased (improve generalization), also \"NaN\"change to blank spaces - \"These modifications help the neural network generalize better, i.e., perform better on data not trained on\"\n",
        "# 2) compute word embeddings (fastText by default)\n",
        "\n",
        "train, validation, test = dm.data.process(\n",
        "    path='/content',\n",
        "    train='trainutf (1).csv',\n",
        "    validation='validutf (1).csv',\n",
        "    test='testutf (1).csv')"
      ],
      "execution_count": null,
      "outputs": [
        {
          "output_type": "stream",
          "text": [
            "WARNING:deepmatcher.data.dataset:Rebuilding data cache because: ['Data file list has changed.', 'One or more data files have been modified.']\n",
            "\n",
            "Reading and processing data from \"/content/trainutf (1).csv\"\n",
            "0% [############################# ] 100% | ETA: 00:00:00\n",
            "Reading and processing data from \"/content/validutf (1).csv\"\n",
            "0% [############################# ] 100% | ETA: 00:00:00\n",
            "Reading and processing data from \"/content/testutf (1).csv\"\n",
            "0% [############################# ] 100% | ETA: 00:00:00\n",
            "Building vocabulary\n",
            "0% [######] 100% | ETA: 00:00:00\n",
            "Total time elapsed: 00:00:00\n",
            "\n",
            "Computing principal components\n",
            "0% [######] 100% | ETA: 00:00:00\n",
            "Total time elapsed: 00:00:03\n"
          ],
          "name": "stderr"
        }
      ]
    },
    {
      "cell_type": "code",
      "metadata": {
        "id": "6ByJZqGjAbxm",
        "colab": {
          "base_uri": "https://localhost:8080/",
          "height": 281
        },
        "outputId": "b738a0a0-4b9b-4975-d7bc-a55cb1d06bfb"
      },
      "source": [
        "# take a look at how preprocessed data looks\n",
        "train_table = train.get_raw_table()\n",
        "train_table.head()\n",
        "\n"
      ],
      "execution_count": null,
      "outputs": [
        {
          "output_type": "execute_result",
          "data": {
            "text/html": [
              "<div>\n",
              "<style scoped>\n",
              "    .dataframe tbody tr th:only-of-type {\n",
              "        vertical-align: middle;\n",
              "    }\n",
              "\n",
              "    .dataframe tbody tr th {\n",
              "        vertical-align: top;\n",
              "    }\n",
              "\n",
              "    .dataframe thead th {\n",
              "        text-align: right;\n",
              "    }\n",
              "</style>\n",
              "<table border=\"1\" class=\"dataframe\">\n",
              "  <thead>\n",
              "    <tr style=\"text-align: right;\">\n",
              "      <th></th>\n",
              "      <th>id</th>\n",
              "      <th>label</th>\n",
              "      <th>left_name</th>\n",
              "      <th>left_description</th>\n",
              "      <th>left_price</th>\n",
              "      <th>right_name</th>\n",
              "      <th>right_description</th>\n",
              "      <th>right_price</th>\n",
              "    </tr>\n",
              "  </thead>\n",
              "  <tbody>\n",
              "    <tr>\n",
              "      <th>0</th>\n",
              "      <td>1917</td>\n",
              "      <td>0</td>\n",
              "      <td>lg 24 ' lds4821ww semi integrated built in whi...</td>\n",
              "      <td>lg 24 ' lds4821ww semi integrated built in whi...</td>\n",
              "      <td></td>\n",
              "      <td>lg ldf6920bb fully integrated dishwasher</td>\n",
              "      <td></td>\n",
              "      <td></td>\n",
              "    </tr>\n",
              "    <tr>\n",
              "      <th>1</th>\n",
              "      <td>1918</td>\n",
              "      <td>0</td>\n",
              "      <td>speck seethru clear hard shell case for macboo...</td>\n",
              "      <td>speck seethru clear hard shell case for macboo...</td>\n",
              "      <td></td>\n",
              "      <td>speck products seethru case for apple 13 ' mac...</td>\n",
              "      <td>plastic pink</td>\n",
              "      <td></td>\n",
              "    </tr>\n",
              "    <tr>\n",
              "      <th>2</th>\n",
              "      <td>1919</td>\n",
              "      <td>0</td>\n",
              "      <td>denon blu-ray disc dvd/cd player dvd3800bdci</td>\n",
              "      <td>denon blu-ray disc dvd/cd player dvd3800bdci 1...</td>\n",
              "      <td>1999</td>\n",
              "      <td>denon dvd-2930ci dvd player dvd2930ci</td>\n",
              "      <td>dvd + rw , dvd-rw , cd-rw dvd video , dvd audi...</td>\n",
              "      <td>448</td>\n",
              "    </tr>\n",
              "    <tr>\n",
              "      <th>3</th>\n",
              "      <td>1920</td>\n",
              "      <td>0</td>\n",
              "      <td>panasonic dect 6.0 expandable digital cordless...</td>\n",
              "      <td>panasonic dect 6.0 expandable digital cordless...</td>\n",
              "      <td></td>\n",
              "      <td>panasonic kx-tg1032s dual handset digital cord...</td>\n",
              "      <td>1 x phone line ( s ) headset jack silver</td>\n",
              "      <td>61.14</td>\n",
              "    </tr>\n",
              "    <tr>\n",
              "      <th>4</th>\n",
              "      <td>1921</td>\n",
              "      <td>0</td>\n",
              "      <td>sony silver minidv handycam camcorder dcrhc52</td>\n",
              "      <td>sony silver minidv handycam camcorder dcrhc52 ...</td>\n",
              "      <td></td>\n",
              "      <td>sony minidv head cleaner dvm12cld</td>\n",
              "      <td>head cleaner</td>\n",
              "      <td>7.95</td>\n",
              "    </tr>\n",
              "  </tbody>\n",
              "</table>\n",
              "</div>"
            ],
            "text/plain": [
              "     id  label                                          left_name  \\\n",
              "0  1917      0  lg 24 ' lds4821ww semi integrated built in whi...   \n",
              "1  1918      0  speck seethru clear hard shell case for macboo...   \n",
              "2  1919      0       denon blu-ray disc dvd/cd player dvd3800bdci   \n",
              "3  1920      0  panasonic dect 6.0 expandable digital cordless...   \n",
              "4  1921      0      sony silver minidv handycam camcorder dcrhc52   \n",
              "\n",
              "                                    left_description left_price  \\\n",
              "0  lg 24 ' lds4821ww semi integrated built in whi...              \n",
              "1  speck seethru clear hard shell case for macboo...              \n",
              "2  denon blu-ray disc dvd/cd player dvd3800bdci 1...       1999   \n",
              "3  panasonic dect 6.0 expandable digital cordless...              \n",
              "4  sony silver minidv handycam camcorder dcrhc52 ...              \n",
              "\n",
              "                                          right_name  \\\n",
              "0           lg ldf6920bb fully integrated dishwasher   \n",
              "1  speck products seethru case for apple 13 ' mac...   \n",
              "2              denon dvd-2930ci dvd player dvd2930ci   \n",
              "3  panasonic kx-tg1032s dual handset digital cord...   \n",
              "4                  sony minidv head cleaner dvm12cld   \n",
              "\n",
              "                                   right_description right_price  \n",
              "0                                                                 \n",
              "1                                       plastic pink              \n",
              "2  dvd + rw , dvd-rw , cd-rw dvd video , dvd audi...         448  \n",
              "3           1 x phone line ( s ) headset jack silver       61.14  \n",
              "4                                       head cleaner        7.95  "
            ]
          },
          "metadata": {
            "tags": []
          },
          "execution_count": 49
        }
      ]
    },
    {
      "cell_type": "code",
      "metadata": {
        "id": "OpZnpJWc8_IV"
      },
      "source": [
        "# define model for matching\n",
        "# performs summarization\n",
        "# performs comparison\n",
        "model = dm.MatchingModel(attr_summarizer='hybrid')"
      ],
      "execution_count": null,
      "outputs": []
    },
    {
      "cell_type": "code",
      "metadata": {
        "id": "SHd-ob-4BOFk",
        "colab": {
          "base_uri": "https://localhost:8080/",
          "height": 2381
        },
        "outputId": "c579d856-7a93-4ac7-8c22-c2eb0b9a858c"
      },
      "source": [
        "# train the model\n",
        "model.run_train(\n",
        "    train,\n",
        "    validation,\n",
        "    epochs=10,\n",
        "    batch_size=16,\n",
        "    best_save_path='hybrid_model.pth',     \n",
        "    pos_neg_ratio=3)"
      ],
      "execution_count": null,
      "outputs": [
        {
          "output_type": "stream",
          "text": [
            "* Number of trainable parameters: 7133105\n",
            "===>  TRAIN Epoch 1\n"
          ],
          "name": "stdout"
        },
        {
          "output_type": "stream",
          "text": [
            "0% [██████████████████████████████] 100% | ETA: 00:00:00\n",
            "Total time elapsed: 00:02:00\n"
          ],
          "name": "stderr"
        },
        {
          "output_type": "stream",
          "text": [
            "Finished Epoch 1 || Run Time:   95.1 | Load Time:   25.8 || F1:   3.30 | Prec:  10.71 | Rec:   1.95 || Ex/s:  44.93\n",
            "\n",
            "===>  EVAL Epoch 1\n"
          ],
          "name": "stdout"
        },
        {
          "output_type": "stream",
          "text": [
            "0% [████████████████████████] 100% | ETA: 00:00:00\n",
            "Total time elapsed: 00:00:22\n"
          ],
          "name": "stderr"
        },
        {
          "output_type": "stream",
          "text": [
            "Finished Epoch 1 || Run Time:   13.3 | Load Time:    9.4 || F1:   5.38 | Prec:  35.29 | Rec:   2.91 || Ex/s:  84.54\n",
            "\n",
            "* Best F1: 5.381165919282512\n",
            "Saving best model...\n",
            "Done.\n",
            "---------------------\n",
            "\n",
            "===>  TRAIN Epoch 2\n"
          ],
          "name": "stdout"
        },
        {
          "output_type": "stream",
          "text": [
            "0% [██████████████████████████████] 100% | ETA: 00:00:00\n",
            "Total time elapsed: 00:02:02\n"
          ],
          "name": "stderr"
        },
        {
          "output_type": "stream",
          "text": [
            "Finished Epoch 2 || Run Time:   96.4 | Load Time:   26.0 || F1:  27.16 | Prec:  29.73 | Rec:  25.00 || Ex/s:  44.38\n",
            "\n",
            "===>  EVAL Epoch 2\n"
          ],
          "name": "stdout"
        },
        {
          "output_type": "stream",
          "text": [
            "0% [████████████████████████] 100% | ETA: 00:00:00\n",
            "Total time elapsed: 00:00:22\n"
          ],
          "name": "stderr"
        },
        {
          "output_type": "stream",
          "text": [
            "Finished Epoch 2 || Run Time:   13.0 | Load Time:    9.2 || F1:  24.62 | Prec:  33.61 | Rec:  19.42 || Ex/s:  86.53\n",
            "\n",
            "* Best F1: 24.615384615384617\n",
            "Saving best model...\n",
            "Done.\n",
            "---------------------\n",
            "\n",
            "===>  TRAIN Epoch 3\n"
          ],
          "name": "stdout"
        },
        {
          "output_type": "stream",
          "text": [
            "0% [██████████████████████████████] 100% | ETA: 00:00:00\n",
            "Total time elapsed: 00:02:02\n"
          ],
          "name": "stderr"
        },
        {
          "output_type": "stream",
          "text": [
            "Finished Epoch 3 || Run Time:   96.9 | Load Time:   26.2 || F1:  43.86 | Prec:  39.89 | Rec:  48.70 || Ex/s:  44.16\n",
            "\n",
            "===>  EVAL Epoch 3\n"
          ],
          "name": "stdout"
        },
        {
          "output_type": "stream",
          "text": [
            "0% [████████████████████████] 100% | ETA: 00:00:00\n",
            "Total time elapsed: 00:00:22\n"
          ],
          "name": "stderr"
        },
        {
          "output_type": "stream",
          "text": [
            "Finished Epoch 3 || Run Time:   13.2 | Load Time:    9.3 || F1:  30.43 | Prec:  34.57 | Rec:  27.18 || Ex/s:  84.86\n",
            "\n",
            "* Best F1: 30.434782608695652\n",
            "Saving best model...\n",
            "Done.\n",
            "---------------------\n",
            "\n",
            "===>  TRAIN Epoch 4\n"
          ],
          "name": "stdout"
        },
        {
          "output_type": "stream",
          "text": [
            "0% [██████████████████████████████] 100% | ETA: 00:00:00\n",
            "Total time elapsed: 00:02:02\n"
          ],
          "name": "stderr"
        },
        {
          "output_type": "stream",
          "text": [
            "Finished Epoch 4 || Run Time:   96.6 | Load Time:   26.2 || F1:  51.04 | Prec:  44.55 | Rec:  59.74 || Ex/s:  44.26\n",
            "\n",
            "===>  EVAL Epoch 4\n"
          ],
          "name": "stdout"
        },
        {
          "output_type": "stream",
          "text": [
            "0% [████████████████████████] 100% | ETA: 00:00:00\n",
            "Total time elapsed: 00:00:22\n"
          ],
          "name": "stderr"
        },
        {
          "output_type": "stream",
          "text": [
            "Finished Epoch 4 || Run Time:   13.1 | Load Time:    9.2 || F1:  27.35 | Prec:  33.10 | Rec:  23.30 || Ex/s:  86.12\n",
            "\n",
            "---------------------\n",
            "\n",
            "===>  TRAIN Epoch 5\n"
          ],
          "name": "stdout"
        },
        {
          "output_type": "stream",
          "text": [
            "0% [██████████████████████████████] 100% | ETA: 00:00:00\n",
            "Total time elapsed: 00:02:02\n"
          ],
          "name": "stderr"
        },
        {
          "output_type": "stream",
          "text": [
            "Finished Epoch 5 || Run Time:   96.4 | Load Time:   26.1 || F1:  59.55 | Prec:  52.48 | Rec:  68.83 || Ex/s:  44.37\n",
            "\n",
            "===>  EVAL Epoch 5\n"
          ],
          "name": "stdout"
        },
        {
          "output_type": "stream",
          "text": [
            "0% [████████████████████████] 100% | ETA: 00:00:00\n",
            "Total time elapsed: 00:00:23\n"
          ],
          "name": "stderr"
        },
        {
          "output_type": "stream",
          "text": [
            "Finished Epoch 5 || Run Time:   13.6 | Load Time:    9.5 || F1:  25.45 | Prec:  33.87 | Rec:  20.39 || Ex/s:  82.93\n",
            "\n",
            "---------------------\n",
            "\n",
            "===>  TRAIN Epoch 6\n"
          ],
          "name": "stdout"
        },
        {
          "output_type": "stream",
          "text": [
            "0% [██████████████████████████████] 100% | ETA: 00:00:00\n",
            "Total time elapsed: 00:02:03\n"
          ],
          "name": "stderr"
        },
        {
          "output_type": "stream",
          "text": [
            "Finished Epoch 6 || Run Time:   97.6 | Load Time:   26.5 || F1:  68.39 | Prec:  61.34 | Rec:  77.27 || Ex/s:  43.80\n",
            "\n",
            "===>  EVAL Epoch 6\n"
          ],
          "name": "stdout"
        },
        {
          "output_type": "stream",
          "text": [
            "0% [████████████████████████] 100% | ETA: 00:00:00\n",
            "Total time elapsed: 00:00:22\n"
          ],
          "name": "stderr"
        },
        {
          "output_type": "stream",
          "text": [
            "Finished Epoch 6 || Run Time:   13.1 | Load Time:    9.2 || F1:  21.79 | Prec:  32.08 | Rec:  16.50 || Ex/s:  85.81\n",
            "\n",
            "---------------------\n",
            "\n",
            "===>  TRAIN Epoch 7\n"
          ],
          "name": "stdout"
        },
        {
          "output_type": "stream",
          "text": [
            "0% [██████████████████████████████] 100% | ETA: 00:00:00\n",
            "Total time elapsed: 00:02:03\n"
          ],
          "name": "stderr"
        },
        {
          "output_type": "stream",
          "text": [
            "Finished Epoch 7 || Run Time:   97.2 | Load Time:   26.3 || F1:  77.30 | Prec:  69.33 | Rec:  87.34 || Ex/s:  44.00\n",
            "\n",
            "===>  EVAL Epoch 7\n"
          ],
          "name": "stdout"
        },
        {
          "output_type": "stream",
          "text": [
            "0% [████████████████████████] 100% | ETA: 00:00:00\n",
            "Total time elapsed: 00:00:22\n"
          ],
          "name": "stderr"
        },
        {
          "output_type": "stream",
          "text": [
            "Finished Epoch 7 || Run Time:   13.2 | Load Time:    9.3 || F1:  23.57 | Prec:  34.26 | Rec:  17.96 || Ex/s:  84.85\n",
            "\n",
            "---------------------\n",
            "\n",
            "===>  TRAIN Epoch 8\n"
          ],
          "name": "stdout"
        },
        {
          "output_type": "stream",
          "text": [
            "0% [██████████████████████████████] 100% | ETA: 00:00:00\n",
            "Total time elapsed: 00:02:03\n"
          ],
          "name": "stderr"
        },
        {
          "output_type": "stream",
          "text": [
            "Finished Epoch 8 || Run Time:   97.1 | Load Time:   26.1 || F1:  80.41 | Prec:  72.70 | Rec:  89.94 || Ex/s:  44.11\n",
            "\n",
            "===>  EVAL Epoch 8\n"
          ],
          "name": "stdout"
        },
        {
          "output_type": "stream",
          "text": [
            "0% [████████████████████████] 100% | ETA: 00:00:00\n",
            "Total time elapsed: 00:00:22\n"
          ],
          "name": "stderr"
        },
        {
          "output_type": "stream",
          "text": [
            "Finished Epoch 8 || Run Time:   13.1 | Load Time:    9.2 || F1:  24.92 | Prec:  34.78 | Rec:  19.42 || Ex/s:  86.19\n",
            "\n",
            "---------------------\n",
            "\n",
            "===>  TRAIN Epoch 9\n"
          ],
          "name": "stdout"
        },
        {
          "output_type": "stream",
          "text": [
            "0% [██████████████████████████████] 100% | ETA: 00:00:00\n",
            "Total time elapsed: 00:02:01\n"
          ],
          "name": "stderr"
        },
        {
          "output_type": "stream",
          "text": [
            "Finished Epoch 9 || Run Time:   95.9 | Load Time:   25.9 || F1:  83.16 | Prec:  75.73 | Rec:  92.21 || Ex/s:  44.62\n",
            "\n",
            "===>  EVAL Epoch 9\n"
          ],
          "name": "stdout"
        },
        {
          "output_type": "stream",
          "text": [
            "0% [████████████████████████] 100% | ETA: 00:00:00\n",
            "Total time elapsed: 00:00:22\n"
          ],
          "name": "stderr"
        },
        {
          "output_type": "stream",
          "text": [
            "Finished Epoch 9 || Run Time:   13.0 | Load Time:    9.2 || F1:  20.13 | Prec:  32.61 | Rec:  14.56 || Ex/s:  86.51\n",
            "\n",
            "---------------------\n",
            "\n",
            "===>  TRAIN Epoch 10\n"
          ],
          "name": "stdout"
        },
        {
          "output_type": "stream",
          "text": [
            "0% [██████████████████████████████] 100% | ETA: 00:00:00\n",
            "Total time elapsed: 00:02:04\n"
          ],
          "name": "stderr"
        },
        {
          "output_type": "stream",
          "text": [
            "Finished Epoch 10 || Run Time:   98.4 | Load Time:   26.4 || F1:  86.19 | Prec:  80.17 | Rec:  93.18 || Ex/s:  43.55\n",
            "\n",
            "===>  EVAL Epoch 10\n"
          ],
          "name": "stdout"
        },
        {
          "output_type": "stream",
          "text": [
            "0% [████████████████████████] 100% | ETA: 00:00:00\n",
            "Total time elapsed: 00:00:23\n"
          ],
          "name": "stderr"
        },
        {
          "output_type": "stream",
          "text": [
            "Finished Epoch 10 || Run Time:   13.6 | Load Time:    9.5 || F1:  20.79 | Prec:  39.73 | Rec:  14.08 || Ex/s:  82.94\n",
            "\n",
            "---------------------\n",
            "\n",
            "Loading best model...\n",
            "Training done.\n"
          ],
          "name": "stdout"
        },
        {
          "output_type": "execute_result",
          "data": {
            "text/plain": [
              "30.434782608695652"
            ]
          },
          "metadata": {
            "tags": []
          },
          "execution_count": 60
        }
      ]
    },
    {
      "cell_type": "code",
      "metadata": {
        "id": "eKljoPNSPQfL",
        "colab": {
          "base_uri": "https://localhost:8080/",
          "height": 123
        },
        "outputId": "d56be4b8-db8c-4f50-ac54-1f08c9e99fb0"
      },
      "source": [
        "# Evaluate (apply model on test data to estimate the performance of unseen data)\n",
        "model.run_eval(test)"
      ],
      "execution_count": null,
      "outputs": [
        {
          "output_type": "stream",
          "text": [
            "===>  EVAL Epoch 4\n"
          ],
          "name": "stdout"
        },
        {
          "output_type": "stream",
          "text": [
            "0% [████████████] 100% | ETA: 00:00:00\n",
            "Total time elapsed: 00:00:18\n"
          ],
          "name": "stderr"
        },
        {
          "output_type": "stream",
          "text": [
            "Finished Epoch 4 || Run Time:    7.6 | Load Time:   10.4 || F1:  33.66 | Prec:  50.49 | Rec:  25.24 || Ex/s: 105.97\n",
            "\n"
          ],
          "name": "stdout"
        },
        {
          "output_type": "execute_result",
          "data": {
            "text/plain": [
              "33.65695792880258"
            ]
          },
          "metadata": {
            "tags": []
          },
          "execution_count": 52
        }
      ]
    },
    {
      "cell_type": "code",
      "metadata": {
        "id": "QfaMWQCO58D3",
        "colab": {
          "base_uri": "https://localhost:8080/",
          "height": 400
        },
        "outputId": "f1d9f5ed-6313-478c-dc34-70cbd2ffde67"
      },
      "source": [
        "# Show how the predictions look like (see the % of similarity in the 1st column match_score)\n",
        "valid_predictions = model.run_prediction(validation, output_attributes=True)\n",
        "valid_predictions.head()\n"
      ],
      "execution_count": null,
      "outputs": [
        {
          "output_type": "stream",
          "text": [
            "===>  PREDICT Epoch 3\n"
          ],
          "name": "stdout"
        },
        {
          "output_type": "stream",
          "text": [
            "0% [████████████] 100% | ETA: 00:00:00\n",
            "Total time elapsed: 00:00:18\n"
          ],
          "name": "stderr"
        },
        {
          "output_type": "stream",
          "text": [
            "Finished Epoch 3 || Run Time:    7.8 | Load Time:   10.3 || F1:  45.09 | Prec:  49.71 | Rec:  41.26 || Ex/s: 105.88\n",
            "\n"
          ],
          "name": "stdout"
        },
        {
          "output_type": "execute_result",
          "data": {
            "text/html": [
              "<div>\n",
              "<style scoped>\n",
              "    .dataframe tbody tr th:only-of-type {\n",
              "        vertical-align: middle;\n",
              "    }\n",
              "\n",
              "    .dataframe tbody tr th {\n",
              "        vertical-align: top;\n",
              "    }\n",
              "\n",
              "    .dataframe thead th {\n",
              "        text-align: right;\n",
              "    }\n",
              "</style>\n",
              "<table border=\"1\" class=\"dataframe\">\n",
              "  <thead>\n",
              "    <tr style=\"text-align: right;\">\n",
              "      <th></th>\n",
              "      <th>match_score</th>\n",
              "      <th>label</th>\n",
              "      <th>left_name</th>\n",
              "      <th>left_description</th>\n",
              "      <th>left_price</th>\n",
              "      <th>right_name</th>\n",
              "      <th>right_description</th>\n",
              "      <th>right_price</th>\n",
              "    </tr>\n",
              "    <tr>\n",
              "      <th>id</th>\n",
              "      <th></th>\n",
              "      <th></th>\n",
              "      <th></th>\n",
              "      <th></th>\n",
              "      <th></th>\n",
              "      <th></th>\n",
              "      <th></th>\n",
              "      <th></th>\n",
              "    </tr>\n",
              "  </thead>\n",
              "  <tbody>\n",
              "    <tr>\n",
              "      <th>7352</th>\n",
              "      <td>0.114540</td>\n",
              "      <td>0</td>\n",
              "      <td>sony red cyber-shot digital camera dscw150r</td>\n",
              "      <td>sony dscw150 red cyber-shot digital camera dsc...</td>\n",
              "      <td>NaN</td>\n",
              "      <td>canon fs100 digital camera 2699b001</td>\n",
              "      <td>canon fs100 flash memory camcorder</td>\n",
              "      <td>299.95</td>\n",
              "    </tr>\n",
              "    <tr>\n",
              "      <th>7353</th>\n",
              "      <td>0.502252</td>\n",
              "      <td>1</td>\n",
              "      <td>belkin cush top for computer laptop f8n044slv</td>\n",
              "      <td>belkin cush top for computer laptop f8n044slv ...</td>\n",
              "      <td>NaN</td>\n",
              "      <td>belkin cushtop f8n044-slv</td>\n",
              "      <td>NaN</td>\n",
              "      <td>NaN</td>\n",
              "    </tr>\n",
              "    <tr>\n",
              "      <th>7354</th>\n",
              "      <td>0.298178</td>\n",
              "      <td>0</td>\n",
              "      <td>garmin suction cup mount and 12-volt adapter k...</td>\n",
              "      <td>garmin suction cup mount and 12-volt adapter k...</td>\n",
              "      <td>30.0</td>\n",
              "      <td>garmin adjustable vehicle suction cup 010-1082...</td>\n",
              "      <td>NaN</td>\n",
              "      <td>7.22</td>\n",
              "    </tr>\n",
              "    <tr>\n",
              "      <th>7355</th>\n",
              "      <td>0.174121</td>\n",
              "      <td>0</td>\n",
              "      <td>sennheiser rechargeable nickel-metal hydride b...</td>\n",
              "      <td>sennheiser rechargeable nickel-metal hydride b...</td>\n",
              "      <td>20.0</td>\n",
              "      <td>canon nb-4l rechargeable camera battery 9763a001</td>\n",
              "      <td>canon nb-4l lithium ion battery</td>\n",
              "      <td>36.89</td>\n",
              "    </tr>\n",
              "    <tr>\n",
              "      <th>7356</th>\n",
              "      <td>0.133399</td>\n",
              "      <td>0</td>\n",
              "      <td>sony cyber-shot black digital camera dsct500b</td>\n",
              "      <td>sony cyber-shot black digital camera dsct500b ...</td>\n",
              "      <td>NaN</td>\n",
              "      <td>sony cyber-shot dsc-w120 digital camera silver...</td>\n",
              "      <td>16:9 2x digital zoom 2.5 ' active matrix tft c...</td>\n",
              "      <td>106.42</td>\n",
              "    </tr>\n",
              "  </tbody>\n",
              "</table>\n",
              "</div>"
            ],
            "text/plain": [
              "      match_score  label                                          left_name  \\\n",
              "id                                                                            \n",
              "7352     0.114540      0        sony red cyber-shot digital camera dscw150r   \n",
              "7353     0.502252      1      belkin cush top for computer laptop f8n044slv   \n",
              "7354     0.298178      0  garmin suction cup mount and 12-volt adapter k...   \n",
              "7355     0.174121      0  sennheiser rechargeable nickel-metal hydride b...   \n",
              "7356     0.133399      0      sony cyber-shot black digital camera dsct500b   \n",
              "\n",
              "                                       left_description  left_price  \\\n",
              "id                                                                    \n",
              "7352  sony dscw150 red cyber-shot digital camera dsc...         NaN   \n",
              "7353  belkin cush top for computer laptop f8n044slv ...         NaN   \n",
              "7354  garmin suction cup mount and 12-volt adapter k...        30.0   \n",
              "7355  sennheiser rechargeable nickel-metal hydride b...        20.0   \n",
              "7356  sony cyber-shot black digital camera dsct500b ...         NaN   \n",
              "\n",
              "                                             right_name  \\\n",
              "id                                                        \n",
              "7352                canon fs100 digital camera 2699b001   \n",
              "7353                          belkin cushtop f8n044-slv   \n",
              "7354  garmin adjustable vehicle suction cup 010-1082...   \n",
              "7355   canon nb-4l rechargeable camera battery 9763a001   \n",
              "7356  sony cyber-shot dsc-w120 digital camera silver...   \n",
              "\n",
              "                                      right_description  right_price  \n",
              "id                                                                    \n",
              "7352                 canon fs100 flash memory camcorder       299.95  \n",
              "7353                                                NaN          NaN  \n",
              "7354                                                NaN         7.22  \n",
              "7355                    canon nb-4l lithium ion battery        36.89  \n",
              "7356  16:9 2x digital zoom 2.5 ' active matrix tft c...       106.42  "
            ]
          },
          "metadata": {
            "tags": []
          },
          "execution_count": 30
        }
      ]
    }
  ]
}